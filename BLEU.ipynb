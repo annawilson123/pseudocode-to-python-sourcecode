{
  "nbformat": 4,
  "nbformat_minor": 0,
  "metadata": {
    "colab": {
      "provenance": [],
      "include_colab_link": true
    },
    "kernelspec": {
      "name": "python3",
      "display_name": "Python 3"
    },
    "language_info": {
      "name": "python"
    }
  },
  "cells": [
    {
      "cell_type": "markdown",
      "metadata": {
        "id": "view-in-github",
        "colab_type": "text"
      },
      "source": [
        "<a href=\"https://colab.research.google.com/github/annawilson123/pseudocode-to-python-sourcecode/blob/main/BLEU.ipynb\" target=\"_parent\"><img src=\"https://colab.research.google.com/assets/colab-badge.svg\" alt=\"Open In Colab\"/></a>"
      ]
    },
    {
      "cell_type": "code",
      "execution_count": null,
      "metadata": {
        "colab": {
          "base_uri": "https://localhost:8080/"
        },
        "id": "_J-CUCRXfrYl",
        "outputId": "b7641d70-c72d-4ac7-f89d-36d6ac6dd093"
      },
      "outputs": [
        {
          "output_type": "stream",
          "name": "stdout",
          "text": [
            "Requirement already satisfied: nltk in /usr/local/lib/python3.10/dist-packages (3.8.1)\n",
            "Requirement already satisfied: click in /usr/local/lib/python3.10/dist-packages (from nltk) (8.1.7)\n",
            "Requirement already satisfied: joblib in /usr/local/lib/python3.10/dist-packages (from nltk) (1.3.2)\n",
            "Requirement already satisfied: regex>=2021.8.3 in /usr/local/lib/python3.10/dist-packages (from nltk) (2023.12.25)\n",
            "Requirement already satisfied: tqdm in /usr/local/lib/python3.10/dist-packages (from nltk) (4.66.2)\n"
          ]
        }
      ],
      "source": [
        "!pip install nltk"
      ]
    },
    {
      "cell_type": "code",
      "source": [
        "from nltk.translate.bleu_score import sentence_bleu"
      ],
      "metadata": {
        "id": "y-aOndGlfu_R"
      },
      "execution_count": null,
      "outputs": []
    },
    {
      "cell_type": "code",
      "source": [
        "reference = [\"def findSubArray(arr, n): \\n sum = 0 \\n maxsize = -1 \\n for i in range(0, n-1): \\n sum = -1 if(arr[i] == 0) else 1 \\n for j in range(i + 1, n): \\n sum = sum + (-1) if (arr[j] == 0) else sum + 1 \\n if (sum == 0 and maxsize < j-i + 1):   \\n maxsize = j - i + 1 \\n startindex = i \\n if (maxsize == -1): \\n print('No such subarray'); \\n else: \\n print(startindex, 'to', startindex + maxsize-1); \\n return maxsize\".split(), \"def find_largest_subarray(arr): \\n sum = 0 \\n maxsize = -1 \\n for i in range(0, len(arr)-1): \\n if arr[i] == 0: \\n sum = -1 \\n else: \\n sum = 1 \\n for j in range(i+1, len(arr)-1): \\n if arr[j] == 0: \\n sum -= 1 \\n else: \\n sum += 1 \\n if sum == 0 and j-i+1 > maxsize: \\n startindex = i \\n maxsize = j-i+1 \\n return maxsize\".split()]\n",
        "print(reference)"
      ],
      "metadata": {
        "colab": {
          "base_uri": "https://localhost:8080/"
        },
        "id": "Hpaod4Pwfw6C",
        "outputId": "2fa531f4-225b-4379-f21a-cd4a034fca2d"
      },
      "execution_count": null,
      "outputs": [
        {
          "output_type": "stream",
          "name": "stdout",
          "text": [
            "[['def', 'findSubArray(arr,', 'n):', 'sum', '=', '0', 'maxsize', '=', '-1', 'for', 'i', 'in', 'range(0,', 'n-1):', 'sum', '=', '-1', 'if(arr[i]', '==', '0)', 'else', '1', 'for', 'j', 'in', 'range(i', '+', '1,', 'n):', 'sum', '=', 'sum', '+', '(-1)', 'if', '(arr[j]', '==', '0)', 'else', 'sum', '+', '1', 'if', '(sum', '==', '0', 'and', 'maxsize', '<', 'j-i', '+', '1):', 'maxsize', '=', 'j', '-', 'i', '+', '1', 'startindex', '=', 'i', 'if', '(maxsize', '==', '-1):', \"print('No\", 'such', \"subarray');\", 'else:', 'print(startindex,', \"'to',\", 'startindex', '+', 'maxsize-1);', 'return', 'maxsize'], ['def', 'find_largest_subarray(arr):', 'sum', '=', '0', 'maxsize', '=', '-1', 'for', 'i', 'in', 'range(0,', 'len(arr)-1):', 'if', 'arr[i]', '==', '0:', 'sum', '=', '-1', 'else:', 'sum', '=', '1', 'for', 'j', 'in', 'range(i+1,', 'len(arr)-1):', 'if', 'arr[j]', '==', '0:', 'sum', '-=', '1', 'else:', 'sum', '+=', '1', 'if', 'sum', '==', '0', 'and', 'j-i+1', '>', 'maxsize:', 'startindex', '=', 'i', 'maxsize', '=', 'j-i+1', 'return', 'maxsize']]\n"
          ]
        }
      ]
    },
    {
      "cell_type": "markdown",
      "source": [],
      "metadata": {
        "id": "ipXlpVa0iIT3"
      }
    },
    {
      "cell_type": "code",
      "source": [
        "candidate = \"def find_largest_subarray(arr): \\n sum = 0 \\n maxsize = -1 \\n for i in range(len(arr)-1): \\n if arr[i] == 0: \\n sum = -1 \\n else: \\n sum = 1 \\n for j in range(i+1, len(arr)-1): \\n if arr[j] == 0: \\n sum -= 1 \\n else: \\n sum += 1 \\n if sum == 0 and j-i+1 > maxsize: \\n startindex = i \\n maxsize = j-i+1 \\n return maxsize\".split()"
      ],
      "metadata": {
        "id": "-JZOAYtjgHJO"
      },
      "execution_count": null,
      "outputs": []
    },
    {
      "cell_type": "code",
      "source": [
        "candidate"
      ],
      "metadata": {
        "colab": {
          "base_uri": "https://localhost:8080/"
        },
        "id": "Hpu12V_igx5o",
        "outputId": "5f441ab0-4a5d-4cf0-b8de-50bc3e1b3e0f"
      },
      "execution_count": null,
      "outputs": [
        {
          "output_type": "execute_result",
          "data": {
            "text/plain": [
              "['def',\n",
              " 'find_largest_subarray(arr):',\n",
              " 'sum',\n",
              " '=',\n",
              " '0',\n",
              " 'maxsize',\n",
              " '=',\n",
              " '-1',\n",
              " 'for',\n",
              " 'i',\n",
              " 'in',\n",
              " 'range(len(arr)-1):',\n",
              " 'if',\n",
              " 'arr[i]',\n",
              " '==',\n",
              " '0:',\n",
              " 'sum',\n",
              " '=',\n",
              " '-1',\n",
              " 'else:',\n",
              " 'sum',\n",
              " '=',\n",
              " '1',\n",
              " 'for',\n",
              " 'j',\n",
              " 'in',\n",
              " 'range(i+1,',\n",
              " 'len(arr)-1):',\n",
              " 'if',\n",
              " 'arr[j]',\n",
              " '==',\n",
              " '0:',\n",
              " 'sum',\n",
              " '-=',\n",
              " '1',\n",
              " 'else:',\n",
              " 'sum',\n",
              " '+=',\n",
              " '1',\n",
              " 'if',\n",
              " 'sum',\n",
              " '==',\n",
              " '0',\n",
              " 'and',\n",
              " 'j-i+1',\n",
              " '>',\n",
              " 'maxsize:',\n",
              " 'startindex',\n",
              " '=',\n",
              " 'i',\n",
              " 'maxsize',\n",
              " '=',\n",
              " 'j-i+1',\n",
              " 'return',\n",
              " 'maxsize']"
            ]
          },
          "metadata": {},
          "execution_count": 9
        }
      ]
    },
    {
      "cell_type": "code",
      "source": [
        "print('BLEU score -> {}'.format(sentence_bleu(reference, candidate)))"
      ],
      "metadata": {
        "colab": {
          "base_uri": "https://localhost:8080/"
        },
        "id": "U6WQXl5Ag0fB",
        "outputId": "6eced695-79da-4dff-9a56-c6672004aa57"
      },
      "execution_count": null,
      "outputs": [
        {
          "output_type": "stream",
          "name": "stdout",
          "text": [
            "BLEU score -> 0.9353990130566078\n"
          ]
        }
      ]
    }
  ]
}